{
 "cells": [
  {
   "cell_type": "code",
   "execution_count": 270,
   "metadata": {},
   "outputs": [],
   "source": [
    "#Added Libraries \n",
    "from selenium import webdriver \n",
    "from selenium.webdriver.common.keys import Keys #For accessing buttons\n",
    "from selenium.common.exceptions import NoSuchElementException\n",
    "from selenium.common.exceptions import StaleElementReferenceException\n",
    "import time\n",
    "import pandas as pd\n",
    "import math"
   ]
  },
  {
   "cell_type": "code",
   "execution_count": 271,
   "metadata": {},
   "outputs": [
    {
     "name": "stdout",
     "output_type": "stream",
     "text": [
      "Enter number of restraurants required:5\n"
     ]
    }
   ],
   "source": [
    "#city = input(\"Enter a city:\") #Get input from user\n",
    "city = 'New York'\n",
    "count = int(input(\"Enter number of restraurants required:\"))"
   ]
  },
  {
   "cell_type": "code",
   "execution_count": 272,
   "metadata": {},
   "outputs": [
    {
     "name": "stdout",
     "output_type": "stream",
     "text": [
      "1\n"
     ]
    }
   ],
   "source": [
    "#Calculated the number of pages to be scraped (Google map displayes 20 results per page)\n",
    "pages = math.ceil(count/20)\n",
    "print(pages)"
   ]
  },
  {
   "cell_type": "code",
   "execution_count": 273,
   "metadata": {},
   "outputs": [],
   "source": [
    "df= pd.DataFrame()"
   ]
  },
  {
   "cell_type": "code",
   "execution_count": 274,
   "metadata": {},
   "outputs": [],
   "source": [
    "browser = webdriver.Chrome('chromedriver')  # opens browser"
   ]
  },
  {
   "cell_type": "code",
   "execution_count": 275,
   "metadata": {},
   "outputs": [],
   "source": [
    "#Initialized webdriver\n",
    "\n",
    "browser.get(\"https://www.google.com/maps\") #pass URL\n",
    "\n",
    "search_form = browser.find_element_by_xpath('//*[@id=\"searchboxinput\"]')\n",
    "time.sleep(2) #waits\n",
    "search_text = city + ' ' +\"restaurants\"\n",
    "search_form.send_keys(search_text)\n",
    "\n",
    "time.sleep(2) #waits\n",
    "search_form.send_keys(Keys.ENTER)\n"
   ]
  },
  {
   "cell_type": "code",
   "execution_count": 276,
   "metadata": {
    "scrolled": true
   },
   "outputs": [
    {
     "name": "stdout",
     "output_type": "stream",
     "text": [
      "Page  1  ends\n"
     ]
    }
   ],
   "source": [
    "#Automating Google Map search and extraction\n",
    "\n",
    "x=0\n",
    "R_name=[]\n",
    "R_address=[]\n",
    "for j in range(pages):\n",
    "    for i in range(1,count*2,2):\n",
    "        x=x+1\n",
    "        name_xpath = '//*[@id=\"pane\"]/div/div[1]/div/div/div[4]/div[1]/div['+str(i)+']/div[1]/div[1]/div[1]/div[1]/div[2]/h3'\n",
    "        page_xpath = '//*[@id=\"pane\"]/div/div[1]/div/div/div[4]/div[1]/div['+str(i)+']/div[1]/div[1]'\n",
    "        try:\n",
    "            name = browser.find_element_by_xpath(name_xpath).text\n",
    "            browser.find_element_by_xpath(page_xpath).click()\n",
    "            time.sleep(3)\n",
    "            address = browser.find_element_by_class_name(\"ugiz4pqJLAG__text\").text \n",
    "            R_name.append(name)\n",
    "            R_address.append(address)\n",
    "            browser.find_element_by_xpath('//*[@id=\"pane\"]/div/div[1]/div/div/button').click()\n",
    "            time.sleep(3)\n",
    "        except NoSuchElementException:\n",
    "            pass\n",
    "        \n",
    "        if (x%20 == 0): break\n",
    "    print(\"Page \",j+1,\" ends\")\n",
    "    browser.find_element_by_xpath('//*[@id=\"n7lv7yjyC35__section-pagination-button-next\"]').click() #Click next\n",
    "    time.sleep(3) \n"
   ]
  },
  {
   "cell_type": "code",
   "execution_count": 277,
   "metadata": {},
   "outputs": [
    {
     "data": {
      "text/plain": [
       "['MARKET CRATES',\n",
       " 'Midtown Social',\n",
       " 'Le Bernardin',\n",
       " 'The Modern',\n",
       " 'LOS TACOS No. 1']"
      ]
     },
     "execution_count": 277,
     "metadata": {},
     "output_type": "execute_result"
    }
   ],
   "source": [
    "R_name"
   ]
  },
  {
   "cell_type": "code",
   "execution_count": 278,
   "metadata": {},
   "outputs": [
    {
     "data": {
      "text/plain": [
       "['224 W 35th St, New York, NY 10001, United States',\n",
       " '15 W 39th St, New York, NY 10018, United States',\n",
       " '155 W 51st St, New York, NY 10019, United States',\n",
       " '9 W 53rd St, New York, NY 10019, United States',\n",
       " '75 9th Ave, New York, NY 10011, United States']"
      ]
     },
     "execution_count": 278,
     "metadata": {},
     "output_type": "execute_result"
    }
   ],
   "source": [
    "R_address"
   ]
  },
  {
   "cell_type": "code",
   "execution_count": 285,
   "metadata": {},
   "outputs": [
    {
     "name": "stdout",
     "output_type": "stream",
     "text": [
      "Done\n",
      "[{'xpath_id': 1, 'score': 100}, {'xpath_id': 2, 'score': 100}, {'xpath_id': 4, 'score': 100}, {'xpath_id': 5, 'score': 100}, {'xpath_id': 6, 'score': 100}, {'xpath_id': 7, 'score': 100}, {'xpath_id': 8, 'score': 100}, {'xpath_id': 9, 'score': 100}]\n",
      "Done\n",
      "[{'xpath_id': 1, 'score': 100}, {'xpath_id': 2, 'score': 100}, {'xpath_id': 4, 'score': 100}, {'xpath_id': 5, 'score': 100}, {'xpath_id': 6, 'score': 100}, {'xpath_id': 7, 'score': 100}, {'xpath_id': 9, 'score': 100}, {'xpath_id': 3, 'score': 74}]\n",
      "Done\n",
      "[{'xpath_id': 1, 'score': 100}, {'xpath_id': 2, 'score': 100}, {'xpath_id': 4, 'score': 100}, {'xpath_id': 5, 'score': 100}, {'xpath_id': 7, 'score': 100}, {'xpath_id': 8, 'score': 100}, {'xpath_id': 9, 'score': 100}]\n",
      "Done\n",
      "[{'xpath_id': 1, 'score': 100}, {'xpath_id': 2, 'score': 100}, {'xpath_id': 3, 'score': 100}, {'xpath_id': 6, 'score': 100}, {'xpath_id': 7, 'score': 100}, {'xpath_id': 8, 'score': 100}, {'xpath_id': 9, 'score': 100}, {'xpath_id': 5, 'score': 29}]\n",
      "Done\n",
      "[{'xpath_id': 1, 'score': 100}, {'xpath_id': 2, 'score': 100}, {'xpath_id': 3, 'score': 100}, {'xpath_id': 4, 'score': 100}, {'xpath_id': 5, 'score': 100}, {'xpath_id': 6, 'score': 100}, {'xpath_id': 7, 'score': 100}, {'xpath_id': 8, 'score': 100}, {'xpath_id': 9, 'score': 100}]\n"
     ]
    }
   ],
   "source": [
    "# Restaurant URL extraction \n",
    "\n",
    "from fuzzywuzzy import fuzz\n",
    "from selenium.webdriver.common.keys import Keys\n",
    "#browser.get(\"https://www.google.com/\")\n",
    "url_list=[]\n",
    " \n",
    "for name in R_name:\n",
    "    browser.get(\"https://www.google.com/\")\n",
    "    search_form = browser.find_element_by_xpath('//*[@id=\"tsf\"]/div[2]/div[1]/div[1]/div/div[2]/input')\n",
    "    time.sleep(2)\n",
    "    search_text = name + ' ' + city + ' website'\n",
    "    try:\n",
    "        search_form.send_keys(search_text) #Keywords to search website\n",
    "        time.sleep(2) #waits\n",
    "        print(\"Done\")\n",
    "        search_form.send_keys(Keys.ENTER)\n",
    "    except StaleElementReferenceException: \n",
    "        pass\n",
    "    website_info=[]\n",
    "    for i in range(10):\n",
    "        try:\n",
    "            name_xpath= '//*[@id=\"rso\"]/div['+str(i)+']/div/div[1]/a/h3/span'\n",
    "            name_url = browser.find_element_by_xpath(name_xpath).text\n",
    "            score = fuzz.token_set_ratio(name, name_url)  # (levenshtein distance)\n",
    "            website_info.append({'xpath_id' : i, 'score' : score})\n",
    "        except NoSuchElementException:\n",
    "            pass\n",
    "        \n",
    "    sorted_score_dict = sorted(website_info, key = lambda i: i[\"score\"], reverse = True)\n",
    "    print(sorted_score_dict)\n",
    "    if sorted_score_dict[0]['score']:\n",
    "        xpath_id = sorted_score_dict[0]['xpath_id']    \n",
    "        try:\n",
    "            url_xpath = '//*[@id=\"rso\"]/div['+str(xpath_id)+']/div/div[1]/a/div/cite'\n",
    "            url = browser.find_element_by_xpath(url_xpath).text\n",
    "        except NoSuchElementException:\n",
    "            pass\n",
    "    else:\n",
    "        url = 'Unavailable'\n",
    "        print(\"No\")\n",
    "    url_list.append(url)\n",
    "    \n",
    "\n",
    "    "
   ]
  },
  {
   "cell_type": "code",
   "execution_count": 286,
   "metadata": {},
   "outputs": [
    {
     "data": {
      "text/plain": [
       "['www.marketcrates.com',\n",
       " 'www.facebook.com › Pages › Public Figure › Artist',\n",
       " 'www.le-bernardin.com',\n",
       " 'www.themodernnyc.com',\n",
       " 'www.lostacos1.com']"
      ]
     },
     "execution_count": 286,
     "metadata": {},
     "output_type": "execute_result"
    }
   ],
   "source": [
    "url_list"
   ]
  },
  {
   "cell_type": "code",
   "execution_count": 281,
   "metadata": {},
   "outputs": [],
   "source": [
    "#Storing data\n",
    "\n",
    "df['Restaurant_name'] = R_name\n",
    "df['Address'] = R_address\n",
    "df['URL'] = url_list"
   ]
  },
  {
   "cell_type": "code",
   "execution_count": 282,
   "metadata": {},
   "outputs": [
    {
     "data": {
      "text/html": [
       "<div>\n",
       "<style scoped>\n",
       "    .dataframe tbody tr th:only-of-type {\n",
       "        vertical-align: middle;\n",
       "    }\n",
       "\n",
       "    .dataframe tbody tr th {\n",
       "        vertical-align: top;\n",
       "    }\n",
       "\n",
       "    .dataframe thead th {\n",
       "        text-align: right;\n",
       "    }\n",
       "</style>\n",
       "<table border=\"1\" class=\"dataframe\">\n",
       "  <thead>\n",
       "    <tr style=\"text-align: right;\">\n",
       "      <th></th>\n",
       "      <th>Restaurant_name</th>\n",
       "      <th>Address</th>\n",
       "      <th>URL</th>\n",
       "    </tr>\n",
       "  </thead>\n",
       "  <tbody>\n",
       "    <tr>\n",
       "      <th>0</th>\n",
       "      <td>MARKET CRATES</td>\n",
       "      <td>224 W 35th St, New York, NY 10001, United States</td>\n",
       "      <td>www.marketcrates.com</td>\n",
       "    </tr>\n",
       "    <tr>\n",
       "      <th>1</th>\n",
       "      <td>Midtown Social</td>\n",
       "      <td>15 W 39th St, New York, NY 10018, United States</td>\n",
       "      <td>www.yelp.com › Restaurants › Mexican › Tacos</td>\n",
       "    </tr>\n",
       "    <tr>\n",
       "      <th>2</th>\n",
       "      <td>Le Bernardin</td>\n",
       "      <td>155 W 51st St, New York, NY 10019, United States</td>\n",
       "      <td>www.le-bernardin.com</td>\n",
       "    </tr>\n",
       "    <tr>\n",
       "      <th>3</th>\n",
       "      <td>The Modern</td>\n",
       "      <td>9 W 53rd St, New York, NY 10019, United States</td>\n",
       "      <td>www.themodernnyc.com</td>\n",
       "    </tr>\n",
       "    <tr>\n",
       "      <th>4</th>\n",
       "      <td>LOS TACOS No. 1</td>\n",
       "      <td>75 9th Ave, New York, NY 10011, United States</td>\n",
       "      <td>www.lostacos1.com</td>\n",
       "    </tr>\n",
       "  </tbody>\n",
       "</table>\n",
       "</div>"
      ],
      "text/plain": [
       "   Restaurant_name                                           Address  \\\n",
       "0    MARKET CRATES  224 W 35th St, New York, NY 10001, United States   \n",
       "1   Midtown Social   15 W 39th St, New York, NY 10018, United States   \n",
       "2     Le Bernardin  155 W 51st St, New York, NY 10019, United States   \n",
       "3       The Modern    9 W 53rd St, New York, NY 10019, United States   \n",
       "4  LOS TACOS No. 1     75 9th Ave, New York, NY 10011, United States   \n",
       "\n",
       "                                            URL  \n",
       "0                          www.marketcrates.com  \n",
       "1  www.yelp.com › Restaurants › Mexican › Tacos  \n",
       "2                          www.le-bernardin.com  \n",
       "3                          www.themodernnyc.com  \n",
       "4                             www.lostacos1.com  "
      ]
     },
     "execution_count": 282,
     "metadata": {},
     "output_type": "execute_result"
    }
   ],
   "source": [
    "df"
   ]
  },
  {
   "cell_type": "code",
   "execution_count": null,
   "metadata": {},
   "outputs": [],
   "source": []
  }
 ],
 "metadata": {
  "kernelspec": {
   "display_name": "Python 3",
   "language": "python",
   "name": "python3"
  },
  "language_info": {
   "codemirror_mode": {
    "name": "ipython",
    "version": 3
   },
   "file_extension": ".py",
   "mimetype": "text/x-python",
   "name": "python",
   "nbconvert_exporter": "python",
   "pygments_lexer": "ipython3",
   "version": "3.7.6"
  }
 },
 "nbformat": 4,
 "nbformat_minor": 4
}
